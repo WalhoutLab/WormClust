{
 "cells": [
  {
   "cell_type": "markdown",
   "metadata": {},
   "source": [
    "## Importing modules"
   ]
  },
  {
   "cell_type": "code",
   "execution_count": 1,
   "metadata": {
    "collapsed": true
   },
   "outputs": [],
   "source": [
    "import pandas as pd\n",
    "import gseapy as gp\n",
    "import matplotlib.pyplot as plt\n",
    "from gseapy.parser import Biomart\n",
    "import os\n",
    "import numpy as np\n",
    "import seaborn as sns\n",
    "from gseapy.plot import gseaplot\n",
    "from scipy import stats as st\n",
    "import fnmatch"
   ]
  },
  {
   "cell_type": "markdown",
   "metadata": {},
   "source": [
    "## Setting base directory"
   ]
  },
  {
   "cell_type": "code",
   "execution_count": null,
   "metadata": {
    "collapsed": true
   },
   "outputs": [],
   "source": [
    "# ! mkdir '/data/nandas/Combined_coexp/Pathway_enrichment/NewSets_090420/TF_Enrichment'\n"
   ]
  },
  {
   "cell_type": "code",
   "execution_count": 2,
   "metadata": {
    "collapsed": true
   },
   "outputs": [],
   "source": [
    "Base_dir='/data/nandas/Combined_coexp/Pathway_enrichment/NewSets_090420/TF_Enrichment'\n",
    "os.chdir(Base_dir)"
   ]
  },
  {
   "cell_type": "markdown",
   "metadata": {},
   "source": [
    "## Reading input files: GeneSets(gmt), PathwayToGenes and Gene Correlations "
   ]
  },
  {
   "cell_type": "code",
   "execution_count": 3,
   "metadata": {
    "collapsed": true
   },
   "outputs": [],
   "source": [
    "pathway_filename1 = '/data/nandas/Combined_coexp/Pathway_enrichment/NewSets_090420/Genesets_NAME_090320_LEVEL_1.gmt';\n",
    "pathway_filename2 = '/data/nandas/Combined_coexp/Pathway_enrichment/NewSets_090420/Genesets_NAME_090320_LEVEL_2.gmt';\n",
    "pathway_filename3 = '/data/nandas/Combined_coexp/Pathway_enrichment/NewSets_090420/Genesets_NAME_090320_LEVEL_3.gmt';\n",
    "pathway_filename4 = '/data/nandas/Combined_coexp/Pathway_enrichment/NewSets_090420/Genesets_NAME_090320_LEVEL_4.gmt';\n",
    "TF_metabol_pairs=pd.read_csv(\"MetabolicPlusTFCorr.dat\",header=None,sep='\\t')"
   ]
  },
  {
   "cell_type": "markdown",
   "metadata": {},
   "source": [
    "## Pathway enrichment analyses for individual TFs"
   ]
  },
  {
   "cell_type": "code",
   "execution_count": 4,
   "metadata": {
    "collapsed": true
   },
   "outputs": [],
   "source": [
    "def PreRank(gene, outdir,gene_sets):\n",
    "    Combined=metabolic_corr_df[gene];\n",
    "    Combined.dropna(inplace=True)\n",
    "#     print(Mean)\n",
    "    rnk=Combined.sort_values(ascending=False)\n",
    "    #print(\"Rank: {}\".format(rnk))    \n",
    "    pre_res = gp.prerank(rnk=rnk, gene_sets=gene_sets, processes=4,min_size=3, outdir=outdir, format='png', \n",
    "                         weighted_score_type=1,verbose=True)\n",
    "    return pre_res\n",
    "\n",
    "def _is_regulated_pathway_(pre_res, gene):\n",
    "#     print('Hello There: {}'.format(pre_res));\n",
    "#     print('Shivani Here: {}'.format(pre_res.res2d))\n",
    "    pathway_pre_res = pre_res.res2d.sort_values(by=['fdr'],ascending=True);\n",
    "#     is_regulated_pathway = pathway_pre_res.es >= 0.70 and pathway_pre_res.fdr <= 0.05\n",
    "#     print(pathway_pre_res.fdr[0])\n",
    "    is_regulated_pathway = False; \n",
    "    print(is_regulated_pathway)\n",
    "    for index in pathway_pre_res.index:\n",
    "        val = pathway_pre_res.loc[index];\n",
    "#         print(val)\n",
    "        if(val.fdr <= 0.05 and val.nes > 0 and val.es >0 and val.nes!=np.inf):\n",
    "            is_regulated_pathway = True;\n",
    "#             print(\"Changed IsRegulatedValue to True\");\n",
    "#             print(\"FDR: {}---NES: {}---: ES:{}\".format(val.fdr, val.nes, val.es))\n",
    "            break;\n",
    "    print(\"OutsideLoop: {}\".format(is_regulated_pathway));\n",
    "    return is_regulated_pathway;\n",
    "\n",
    "def PlotEnrichment(pre_res,gene, outdir):\n",
    "    Sorted_values=pre_res.res2d.sort_values(ascending=False,by=['nes'])[0:20]\n",
    "    Sorted_values=Sorted_values[Sorted_values.fdr<=0.05]\n",
    "    Sorted_values.to_csv(\"Pathways_enriched_{}.csv\".format(gene))\n",
    "    fig = plt.figure()\n",
    "    df = pd.DataFrame({'Enrichment Score': Sorted_values.es,\n",
    "                   'p-value': Sorted_values.pval,'FDR':Sorted_values.fdr}, index=Sorted_values.index)\n",
    "    df2=pd.DataFrame({'NES':Sorted_values.nes,'FDR':Sorted_values.fdr},index=Sorted_values.index)\n",
    "    ax = df.plot.barh(rot=0)\n",
    "    ax.invert_yaxis()\n",
    "    plt.legend(loc='best', bbox_to_anchor=(1, 1))\n",
    "    plt.savefig(\"{}/{}_plot.png\".format(outdir, gene),bbox_inches = 'tight')\n",
    "    plt.show()\n",
    "    plt.close()\n",
    "    ax2=df2.plot.barh(rot=0)\n",
    "    ax2.invert_yaxis()\n",
    "    plt.legend(loc='best', bbox_to_anchor=(1, 1))\n",
    "    plt.xlabel('Normalized enrichment score')\n",
    "    plt.savefig(\"{}/{}_nes.png\".format(outdir, gene),bbox_inches = 'tight')\n",
    "    plt.show()\n",
    "    \n",
    "def PlotGSEA(pre_res, gene, outdir):\n",
    "#     fig,ax=plt.subplots(ncols=2,nrows=2)\n",
    "    terms = pre_res.res2d.sort_values(by=['fdr'],ascending=True)\n",
    "    term_index=terms.index\n",
    "#     print(terms[0:2])\n",
    "    if terms.nes[0]>0:\n",
    "        fig=gseaplot(rank_metric=pre_res.ranking, term=term_index[0], **pre_res.results[term_index[0]])\n",
    "#     ax2=gseaplot(rank_metric=pre_res.ranking, term=term_index[0], **pre_res.results[term_index[1]])\n",
    "#     ax3=gseaplot(rank_metric=pre_res.ranking, term=term_index[0], **pre_res.results[term_index[2]])\n",
    "#     ax4=gseaplot(rank_metric=pre_res.ranking, term=term_index[0], **pre_res.results[term_index[3]])\n",
    "    \n",
    "    else:\n",
    "        fig=gseaplot(rank_metric=pre_res.ranking, term=term_index[1], **pre_res.results[term_index[1]])\n",
    "    plt.savefig('{}/{}_gsea.png'.format(outdir,gene))\n",
    "    \n",
    "def ConvertPairsToMatrix(bayesian_metabol_df):\n",
    "    bayesian_metabol_df.set_axis(['Gene1','Gene2','weight'], axis=1,inplace=True)\n",
    "    a = np.unique(bayesian_metabol_df['Gene1'])\n",
    "    b = np.unique(bayesian_metabol_df['Gene2'])\n",
    "    c = np.union1d(a,b);\n",
    "    data = np.zeros((len(c), len(c)));\n",
    "    output_df = pd.DataFrame(data, index=c, columns=c)\n",
    "    for values in bayesian_metabol_df.values: \n",
    "        output_df[values[0]][values[1]] = values[2];\n",
    "        output_df[values[1]][values[0]]=values[2];\n",
    "    np.fill_diagonal(output_df.values,1)\n",
    "    return output_df\n",
    "\n",
    "def wb_to_gene(matrix):\n",
    "    mapper_df=pd.read_csv(\"/data/nandas/MEFIT/predicted/mapper_final.csv\", header='infer',index_col=0)\n",
    "    wb_to_gene = {};\n",
    "    for wb in mapper_df.index:\n",
    "        wb_to_gene[wb] = str(mapper_df.loc[wb]['GeneID']);\n",
    "    matrix=matrix.rename(index=wb_to_gene,columns=wb_to_gene)\n",
    "    return matrix"
   ]
  },
  {
   "cell_type": "code",
   "execution_count": 5,
   "metadata": {
    "collapsed": true
   },
   "outputs": [],
   "source": [
    "Pathway_df1=pd.read_csv(pathway_filename1,index_col=0,sep='\\t')\n",
    "Pathway_df2=pd.read_csv(pathway_filename2,index_col=0,sep='\\t')\n",
    "Pathway_df3=pd.read_csv(pathway_filename3,index_col=0,sep='\\t')\n",
    "Pathway_df4=pd.read_csv(pathway_filename4,index_col=0,sep='\\t')"
   ]
  },
  {
   "cell_type": "code",
   "execution_count": 6,
   "metadata": {
    "collapsed": true
   },
   "outputs": [],
   "source": [
    "Pathway_df4.drop(['CHITIN_BREAKDOWN','GUANYLATE_CYCLASE'],inplace=True)"
   ]
  },
  {
   "cell_type": "code",
   "execution_count": 7,
   "metadata": {
    "collapsed": true
   },
   "outputs": [],
   "source": [
    "TF_metabol_pairs.set_axis(['Gene1','Gene2','weight'], axis=1,inplace=True)"
   ]
  },
  {
   "cell_type": "code",
   "execution_count": 8,
   "metadata": {
    "collapsed": true
   },
   "outputs": [],
   "source": [
    "TF_metabol_pairs.weight=(TF_metabol_pairs.weight*2)-1"
   ]
  },
  {
   "cell_type": "code",
   "execution_count": null,
   "metadata": {
    "collapsed": true
   },
   "outputs": [],
   "source": [
    "# TF_metabol_pairs.weight.hist(bins=1000,grid=False)"
   ]
  },
  {
   "cell_type": "code",
   "execution_count": null,
   "metadata": {
    "collapsed": true
   },
   "outputs": [],
   "source": [
    "# metabolic_corr_df=ConvertPairsToMatrix(TF_metabol_pairs)"
   ]
  },
  {
   "cell_type": "code",
   "execution_count": null,
   "metadata": {
    "collapsed": true
   },
   "outputs": [],
   "source": [
    "# metabolic_corr_df=wb_to_gene(metabolic_corr_df)"
   ]
  },
  {
   "cell_type": "markdown",
   "metadata": {},
   "source": [
    "## Convert TF_metabolic gene pairwise expression to coexpression matrix"
   ]
  },
  {
   "cell_type": "code",
   "execution_count": null,
   "metadata": {
    "collapsed": true
   },
   "outputs": [],
   "source": [
    "# metabolic_corr_df.to_csv(\"MetabolicCorr092220.csv\")"
   ]
  },
  {
   "cell_type": "code",
   "execution_count": 9,
   "metadata": {
    "collapsed": true
   },
   "outputs": [],
   "source": [
    "metabolic_corr_df=pd.read_csv(\"MetabolicCorr092220.csv\",index_col=0)"
   ]
  },
  {
   "cell_type": "code",
   "execution_count": null,
   "metadata": {
    "collapsed": true
   },
   "outputs": [],
   "source": [
    "# metabolic_corr_df.drop(columns=)"
   ]
  },
  {
   "cell_type": "code",
   "execution_count": 10,
   "metadata": {
    "collapsed": true
   },
   "outputs": [],
   "source": [
    "np.fill_diagonal(metabolic_corr_df.values,'NaN')"
   ]
  },
  {
   "cell_type": "code",
   "execution_count": 28,
   "metadata": {
    "collapsed": true
   },
   "outputs": [],
   "source": [
    "metabolic_corr_df.drop(columns=['gei-3.1'],inplace=True)"
   ]
  },
  {
   "cell_type": "code",
   "execution_count": 29,
   "metadata": {
    "collapsed": true
   },
   "outputs": [],
   "source": [
    "metabolic_corr_df=metabolic_corr_df[~metabolic_corr_df.index.duplicated(keep='first')]\n",
    "metabolic_corr_df=metabolic_corr_df.transpose()\n",
    "metabolic_corr_df=metabolic_corr_df[~metabolic_corr_df.index.duplicated(keep='first')]"
   ]
  },
  {
   "cell_type": "code",
   "execution_count": 30,
   "metadata": {
    "collapsed": true
   },
   "outputs": [],
   "source": [
    "metabolic_corr_df.to_csv(\"MetabolicCorr092220.csv\")"
   ]
  },
  {
   "cell_type": "code",
   "execution_count": 31,
   "metadata": {
    "collapsed": true
   },
   "outputs": [],
   "source": [
    "metabolic_corr_df=pd.read_csv(\"MetabolicCorr092220.csv\",index_col=0)"
   ]
  },
  {
   "cell_type": "code",
   "execution_count": null,
   "metadata": {
    "collapsed": true
   },
   "outputs": [],
   "source": [
    "# metabolic_corr_df=wb_to_gene(metabolic_corr_df)"
   ]
  },
  {
   "cell_type": "code",
   "execution_count": null,
   "metadata": {
    "collapsed": true
   },
   "outputs": [],
   "source": [
    "# np.fill_diagonal(metabolic_corr_df.values,np.nan)"
   ]
  },
  {
   "cell_type": "markdown",
   "metadata": {},
   "source": [
    "## Reading TFs"
   ]
  },
  {
   "cell_type": "code",
   "execution_count": 36,
   "metadata": {
    "collapsed": true
   },
   "outputs": [],
   "source": [
    "TF=pd.read_csv(\"/data/nandas/Resolve_OR_genes/TF.csv\",header=None,index_col=0)\n",
    "TF.drop(index=['WBGene00021924'],inplace=True)\n",
    "TF=wb_to_gene(TF)\n",
    "TF.drop(index=['ech-6'],inplace=True)"
   ]
  },
  {
   "cell_type": "code",
   "execution_count": 37,
   "metadata": {
    "collapsed": true
   },
   "outputs": [],
   "source": [
    "TF=TF[~TF.index.duplicated(keep='first')]\n",
    "metabolic_corr_df=metabolic_corr_df[~metabolic_corr_df.index.duplicated(keep='first')]\n",
    "metabolic_corr_df=metabolic_corr_df.transpose()\n",
    "metabolic_corr_df=metabolic_corr_df[~metabolic_corr_df.index.duplicated(keep='first')]"
   ]
  },
  {
   "cell_type": "code",
   "execution_count": 38,
   "metadata": {
    "collapsed": true
   },
   "outputs": [
    {
     "name": "stdout",
     "output_type": "stream",
     "text": [
      "937\n"
     ]
    }
   ],
   "source": [
    "# Get the list of TFs whose coexpression values are present in the combined matrix\n",
    "intersected_list = list(set(metabolic_corr_df.index).intersection(set(TF.index)))\n",
    "print(len(intersected_list))\n",
    "\n",
    "TF_final = TF.loc[intersected_list]\n",
    "# TF_final = TF_final.drop_duplicates()\n",
    "TF_final.reset_index(inplace=True)\n",
    "# TF_final.drop_duplicates(inplace=True)\n",
    "TF_final.set_index(0, inplace=True)\n",
    "TF_final=TF_final[~TF_final.index.duplicated(keep='first')]"
   ]
  },
  {
   "cell_type": "code",
   "execution_count": 39,
   "metadata": {
    "collapsed": true
   },
   "outputs": [],
   "source": [
    "TF_final.to_csv(\"intersected_TF_list.csv\")"
   ]
  },
  {
   "cell_type": "code",
   "execution_count": 40,
   "metadata": {
    "collapsed": true
   },
   "outputs": [
    {
     "data": {
      "text/html": [
       "<div>\n",
       "<style scoped>\n",
       "    .dataframe tbody tr th:only-of-type {\n",
       "        vertical-align: middle;\n",
       "    }\n",
       "\n",
       "    .dataframe tbody tr th {\n",
       "        vertical-align: top;\n",
       "    }\n",
       "\n",
       "    .dataframe thead th {\n",
       "        text-align: right;\n",
       "    }\n",
       "</style>\n",
       "<table border=\"1\" class=\"dataframe\">\n",
       "  <thead>\n",
       "    <tr style=\"text-align: right;\">\n",
       "      <th></th>\n",
       "    </tr>\n",
       "    <tr>\n",
       "      <th>0</th>\n",
       "    </tr>\n",
       "  </thead>\n",
       "  <tbody>\n",
       "    <tr>\n",
       "      <th>nhr-11</th>\n",
       "    </tr>\n",
       "    <tr>\n",
       "      <th>ceh-100</th>\n",
       "    </tr>\n",
       "    <tr>\n",
       "      <th>eyg-1</th>\n",
       "    </tr>\n",
       "    <tr>\n",
       "      <th>ccch-5</th>\n",
       "    </tr>\n",
       "    <tr>\n",
       "      <th>rbr-2</th>\n",
       "    </tr>\n",
       "    <tr>\n",
       "      <th>...</th>\n",
       "    </tr>\n",
       "    <tr>\n",
       "      <th>zip-4</th>\n",
       "    </tr>\n",
       "    <tr>\n",
       "      <th>F10E7.11</th>\n",
       "    </tr>\n",
       "    <tr>\n",
       "      <th>dmd-8</th>\n",
       "    </tr>\n",
       "    <tr>\n",
       "      <th>nhr-225</th>\n",
       "    </tr>\n",
       "    <tr>\n",
       "      <th>tbx-9</th>\n",
       "    </tr>\n",
       "  </tbody>\n",
       "</table>\n",
       "<p>937 rows × 0 columns</p>\n",
       "</div>"
      ],
      "text/plain": [
       "Empty DataFrame\n",
       "Columns: []\n",
       "Index: [nhr-11, ceh-100, eyg-1, ccch-5, rbr-2, cebp-2, T24C4.2, mbl-1, C35D6.4, nhr-111, dpr-1, ceh-88, lim-4, nhr-195, Y82E9BR.1, snu-23, ZK546.5, nhr-73, nhr-42, lim-7, nhr-79, swsn-3, dhhc-1, dhhc-4, nhr-117, rcor-1, nhr-283, odd-1, zip-8, nhr-3, ceh-13, C09F5.3, nhr-65, ztf-1, che-1, 2L52.1, lir-1, nhr-51, Y56A3A.18, uaf-2, ahr-1, fkh-4, unc-4, ceh-48, nhr-61, nhr-32, nhr-64, ZK177.3, nhr-49, eor-1, ztf-13, attf-6, nhr-190, nhr-143, mbr-1, klf-1, spe-44, ceh-20, nhr-2, snpc-4, ceh-34, nhr-98, athp-2, Y48G1C.6, let-607, madf-8, madf-3, T08G5.7, crh-2, klf-2, Y116A8C.20, tra-1, nhr-154, nhr-137, nhr-188, npax-1, ceh-7, nhr-243, nhr-22, nhr-258, him-8, C16A3.4, lsy-2, K12H6.12, ada-2, nhr-257, ztf-2, bed-3, nhr-126, nhr-128, nhr-142, nhr-44, sdc-1, bed-2, swsn-7, nhr-223, mab-23, hlh-30, lin-26, efl-2, ...]\n",
       "\n",
       "[937 rows x 0 columns]"
      ]
     },
     "execution_count": 40,
     "metadata": {},
     "output_type": "execute_result"
    }
   ],
   "source": [
    "# TF_final.transpose().to_csv(\"transposed_TF.csv\",sep=',')\n",
    "TF_final"
   ]
  },
  {
   "cell_type": "code",
   "execution_count": null,
   "metadata": {
    "collapsed": true
   },
   "outputs": [],
   "source": [
    "# # metabolic_corr_df.rename(columns={'gei-3.1':'gei-3'},inplace=True)\n",
    "# metabolic_corr_df.drop_duplicates(keep='first',inplace=True)\n",
    "# metabolic_corr_df.transpose().drop_duplicates(keep='first',inplace=True)"
   ]
  },
  {
   "cell_type": "code",
   "execution_count": 41,
   "metadata": {
    "collapsed": true
   },
   "outputs": [],
   "source": [
    "Genes=metabolic_corr_df.copy(deep=True)\n",
    "Genes ['IsRegulated']=False\n",
    "Genes=Genes['IsRegulated']\n",
    "Genes=pd.DataFrame(Genes)"
   ]
  },
  {
   "cell_type": "code",
   "execution_count": 58,
   "metadata": {
    "collapsed": true
   },
   "outputs": [
    {
     "name": "stdout",
     "output_type": "stream",
     "text": [
      "tfvalue: nhr-31\n",
      "(3436, 3436)\n",
      "936\n",
      "(2500, 2500)\n"
     ]
    },
    {
     "name": "stderr",
     "output_type": "stream",
     "text": [
      "2020-12-14 13:59:09,825 Parsing data files for GSEA.............................\n",
      "2020-12-14 13:59:10,030 0005 gene_sets have been filtered out when max_size=500 and min_size=3\n",
      "2020-12-14 13:59:10,032 0081 gene_sets used for further statistical testing.....\n",
      "2020-12-14 13:59:10,034 Start to run GSEA...Might take a while..................\n",
      "2020-12-14 13:59:13,572 Start to generate gseapy reports, and produce figures...\n",
      "2020-12-14 13:59:35,662 Congratulations. GSEApy runs successfully................\n",
      "\n"
     ]
    },
    {
     "name": "stdout",
     "output_type": "stream",
     "text": [
      "False\n",
      "OutsideLoop: True\n",
      "False\n",
      "OutsideLoop: True\n",
      "nhr-31 is regulated:True\n"
     ]
    },
    {
     "data": {
      "text/plain": [
       "<Figure size 432x288 with 0 Axes>"
      ]
     },
     "metadata": {},
     "output_type": "display_data"
    },
    {
     "data": {
      "image/png": "[encoded data removed]",
      "text/plain": [
       "<Figure size 432x288 with 1 Axes>"
      ]
     },
     "metadata": {
      "needs_background": "light"
     },
     "output_type": "display_data"
    },
    {
     "data": {
      "image/png": "[encoded data removed]",
      "text/plain": [
       "<Figure size 432x288 with 1 Axes>"
      ]
     },
     "metadata": {
      "needs_background": "light"
     },
     "output_type": "display_data"
    },
    {
     "data": {
      "image/png": "[encoded data removed]",
      "text/plain": [
       "<Figure size 432x396 with 4 Axes>"
      ]
     },
     "metadata": {
      "needs_background": "light"
     },
     "output_type": "display_data"
    }
   ],
   "source": [
    "#Level_4\n",
    "New_df=pd.DataFrame([])\n",
    "for tf in TF_final.index:\n",
    "    tf='nhr-31'\n",
    "# for i in range(0,862):\n",
    "#     tf = TF_final.index[i];\n",
    "    print(\"tfvalue: {}\".format(tf))\n",
    "    print(metabolic_corr_df.shape)\n",
    "    drop_list = TF_final.drop(index=tf)\n",
    "    drop_list = drop_list.index\n",
    "    print(len(drop_list))\n",
    "    matrix = metabolic_corr_df.drop(index=drop_list, columns=drop_list);\n",
    "    print(matrix.shape)\n",
    "    file_exist = False;\n",
    "    for file in os.listdir('./'):\n",
    "        if fnmatch.fnmatch(file, \"Pathways_enriched_{}.csv\".format(tf)):\n",
    "            print(\"File: {} found, skipping!!!\".format(file))\n",
    "            file_exist = True;\n",
    "    if(not file_exist):\n",
    "        pre_res = PreRank(tf, tf,gene_sets=pathway_filename4);\n",
    "        if(pre_res is None):\n",
    "            continue;\n",
    "        else:\n",
    "            Genes.at[tf, 'IsRegulated'] = _is_regulated_pathway_(pre_res, tf);\n",
    "            print(\"{} is regulated:{}\".format(tf,_is_regulated_pathway_(pre_res, tf)))\n",
    "            PlotEnrichment(pre_res, gene=tf, outdir=tf)\n",
    "            PlotGSEA(pre_res=pre_res,gene=tf,outdir=tf)\n",
    "    break;\n",
    "        \n",
    "#Genes.to_csv(\"Genes_Regulation_status.csv\")\n",
    "#New_df.to_csv(\"Final_pathway_gsea.csv\")"
   ]
  },
  {
   "cell_type": "code",
   "execution_count": 59,
   "metadata": {
    "collapsed": true
   },
   "outputs": [],
   "source": [
    "Pathways_nhr_68=pd.read_csv(\"Pathways_enriched_nhr-31.csv\",index_col=0)"
   ]
  },
  {
   "cell_type": "code",
   "execution_count": 60,
   "metadata": {
    "collapsed": true
   },
   "outputs": [
    {
     "data": {
      "text/html": [
       "<div>\n",
       "<style scoped>\n",
       "    .dataframe tbody tr th:only-of-type {\n",
       "        vertical-align: middle;\n",
       "    }\n",
       "\n",
       "    .dataframe tbody tr th {\n",
       "        vertical-align: top;\n",
       "    }\n",
       "\n",
       "    .dataframe thead th {\n",
       "        text-align: right;\n",
       "    }\n",
       "</style>\n",
       "<table border=\"1\" class=\"dataframe\">\n",
       "  <thead>\n",
       "    <tr style=\"text-align: right;\">\n",
       "      <th></th>\n",
       "      <th>es</th>\n",
       "      <th>nes</th>\n",
       "      <th>pval</th>\n",
       "      <th>fdr</th>\n",
       "      <th>geneset_size</th>\n",
       "      <th>matched_size</th>\n",
       "      <th>genes</th>\n",
       "      <th>ledge_genes</th>\n",
       "    </tr>\n",
       "    <tr>\n",
       "      <th>Term</th>\n",
       "      <th></th>\n",
       "      <th></th>\n",
       "      <th></th>\n",
       "      <th></th>\n",
       "      <th></th>\n",
       "      <th></th>\n",
       "      <th></th>\n",
       "      <th></th>\n",
       "    </tr>\n",
       "  </thead>\n",
       "  <tbody>\n",
       "    <tr>\n",
       "      <th>VACUOLAR_ATP_ASE</th>\n",
       "      <td>0.776704</td>\n",
       "      <td>2.144953</td>\n",
       "      <td>0.0</td>\n",
       "      <td>0.017145</td>\n",
       "      <td>20</td>\n",
       "      <td>20</td>\n",
       "      <td>vha-5;vha-15;vha-12;vha-19;vha-11;vha-6;vha-2;...</td>\n",
       "      <td>vha-5;vha-15;vha-12;vha-19;vha-11;vha-6;vha-2;...</td>\n",
       "    </tr>\n",
       "  </tbody>\n",
       "</table>\n",
       "</div>"
      ],
      "text/plain": [
       "                        es       nes  pval       fdr  geneset_size  \\\n",
       "Term                                                                 \n",
       "VACUOLAR_ATP_ASE  0.776704  2.144953   0.0  0.017145            20   \n",
       "\n",
       "                  matched_size  \\\n",
       "Term                             \n",
       "VACUOLAR_ATP_ASE            20   \n",
       "\n",
       "                                                              genes  \\\n",
       "Term                                                                  \n",
       "VACUOLAR_ATP_ASE  vha-5;vha-15;vha-12;vha-19;vha-11;vha-6;vha-2;...   \n",
       "\n",
       "                                                        ledge_genes  \n",
       "Term                                                                 \n",
       "VACUOLAR_ATP_ASE  vha-5;vha-15;vha-12;vha-19;vha-11;vha-6;vha-2;...  "
      ]
     },
     "execution_count": 60,
     "metadata": {},
     "output_type": "execute_result"
    }
   ],
   "source": [
    "Pathways_nhr_68.sort_values(ascending=True,by =['fdr'])"
   ]
  },
  {
   "cell_type": "code",
   "execution_count": 51,
   "metadata": {},
   "outputs": [],
   "source": [
    "!rm Pathways_enriched_nhr-80.csv"
   ]
  }
 ],
 "metadata": {
  "kernelspec": {
   "display_name": "Python 3",
   "language": "python",
   "name": "python3"
  },
  "language_info": {
   "codemirror_mode": {
    "name": "ipython",
    "version": 3
   },
   "file_extension": ".py",
   "mimetype": "text/x-python",
   "name": "python",
   "nbconvert_exporter": "python",
   "pygments_lexer": "ipython3",
   "version": "3.6.6"
  }
 },
 "nbformat": 4,
 "nbformat_minor": 2
}
